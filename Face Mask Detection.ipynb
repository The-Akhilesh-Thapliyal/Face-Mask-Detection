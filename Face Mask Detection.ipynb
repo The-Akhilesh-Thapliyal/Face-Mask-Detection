{
 "cells": [
  {
   "cell_type": "markdown",
   "metadata": {
    "id": "ttBi-SjtefYf"
   },
   "source": [
    "# Pre-Processing the data"
   ]
  },
  {
   "cell_type": "markdown",
   "metadata": {
    "id": "-HvCVCFskAqO"
   },
   "source": [
    "We cannot pass the data as it is to the model to be trained, we need to pre-process it to extract maximum amount of features from the image. So now we will perform **Data Augmentation** on our dataset, to normalize the image, to add some extra features and make images ready to be passed to train the model."
   ]
  },
  {
   "cell_type": "markdown",
   "metadata": {
    "id": "hokOzXdPlmcC"
   },
   "source": [
    "Here we are going to use the ```ImageDataGenerator``` class to perform the **Data Augmentation** on dataset."
   ]
  },
  {
   "cell_type": "code",
   "execution_count": 1,
   "metadata": {
    "id": "NEsoB7GLeFKK"
   },
   "outputs": [],
   "source": [
    "import tensorflow as tf\n",
    "from tensorflow.keras.preprocessing.image import ImageDataGenerator"
   ]
  },
  {
   "cell_type": "markdown",
   "metadata": {
    "id": "O__01bWGmPfV"
   },
   "source": [
    "Let's fix the ```INPUT_SHAPE``` because the images we have in our dataset are not in same size. So it is important to have the same size of images. "
   ]
  },
  {
   "cell_type": "code",
   "execution_count": 2,
   "metadata": {
    "id": "K1u9yL9yfVTI"
   },
   "outputs": [],
   "source": [
    "# Size Of Input Image and No. of images in a Batch\n",
    "INPUT_SIZE = [100,100]\n",
    "BATCH = 32"
   ]
  },
  {
   "cell_type": "code",
   "execution_count": 3,
   "metadata": {
    "colab": {
     "base_uri": "https://localhost:8080/"
    },
    "id": "RzbLy1p4fpHk",
    "outputId": "c1c565b3-cf84-4b21-dac8-9d3831713c19"
   },
   "outputs": [
    {
     "name": "stdout",
     "output_type": "stream",
     "text": [
      "Found 10000 images belonging to 2 classes.\n"
     ]
    }
   ],
   "source": [
    "training_datagen = ImageDataGenerator(rescale=1./255,\n",
    "                                      shear_range=0.2,\n",
    "                                      zoom_range = 0.2,\n",
    "                                      )\n",
    "\n",
    "training_data = training_datagen.flow_from_directory('./Face Mask Dataset/Train',\n",
    "                                                     target_size = INPUT_SIZE,\n",
    "                                                     batch_size=BATCH,\n",
    "                                                     class_mode = 'binary'\n",
    "                                                     )"
   ]
  },
  {
   "cell_type": "code",
   "execution_count": 4,
   "metadata": {
    "colab": {
     "base_uri": "https://localhost:8080/"
    },
    "id": "q3Xjnn78hWrY",
    "outputId": "20817c8f-7071-4679-e3a2-f6ec19dbd1c6"
   },
   "outputs": [
    {
     "name": "stdout",
     "output_type": "stream",
     "text": [
      "Found 1792 images belonging to 2 classes.\n"
     ]
    }
   ],
   "source": [
    "test_datagen = ImageDataGenerator(rescale=1./255)\n",
    "\n",
    "test_data = training_datagen.flow_from_directory('./Face Mask Dataset/Test',\n",
    "                                                     target_size = INPUT_SIZE,\n",
    "                                                     batch_size=BATCH,\n",
    "                                                     class_mode = 'binary'\n",
    "                                                     )"
   ]
  },
  {
   "cell_type": "markdown",
   "metadata": {
    "id": "fDvu-MS5h2Uf"
   },
   "source": [
    "Now, our data is ready to be passed to train the model. "
   ]
  },
  {
   "cell_type": "markdown",
   "metadata": {
    "id": "4oZBTcL4h-uH"
   },
   "source": [
    "# Importing VGG16 Model's Architecture"
   ]
  },
  {
   "cell_type": "markdown",
   "metadata": {
    "id": "4bzGeUOAo21H"
   },
   "source": [
    "In this step we are going to import the ```VGG16``` architecture from ```keras```. ```VGG16``` is a winner of ```imagenet``` compitition in 2014. So, we are going to use the same weights used to train actual VGG16 Image Classification model from that compitition. This will save our lots time and lots of resources too. "
   ]
  },
  {
   "cell_type": "code",
   "execution_count": 5,
   "metadata": {
    "id": "mlyhFHEYiJ3g"
   },
   "outputs": [],
   "source": [
    "from tensorflow.keras.layers import Input, Lambda, Dense, Flatten\n",
    "from tensorflow.keras.models import Model, Sequential\n",
    "from tensorflow.keras.applications.vgg16 import VGG16\n",
    "from tensorflow.keras.applications.vgg16 import preprocess_input"
   ]
  },
  {
   "cell_type": "markdown",
   "metadata": {
    "id": "rgyBD2MqqEiJ"
   },
   "source": [
    "Following is code which we will be using to import the ```VGG16``` architecture. We will pass the three parameters, that are input size of an image, ```weights=\"imagenet\"``` and ```include_top=Flase```.\n",
    "\n",
    "```include_top``` is false because we don't need to import whole architecture. We need only the **Convolutional architecture** of VGG16. After that we will add our layer and which will be trained according to our dataset."
   ]
  },
  {
   "cell_type": "code",
   "execution_count": 6,
   "metadata": {
    "colab": {
     "base_uri": "https://localhost:8080/"
    },
    "id": "6kuYQXF0i2Pu",
    "outputId": "2d77d71b-57d3-4bdb-8e4e-9191612ef92e"
   },
   "outputs": [],
   "source": [
    "vgg16 = VGG16(input_shape=INPUT_SIZE + [3], weights='imagenet', include_top=False)"
   ]
  },
  {
   "cell_type": "markdown",
   "metadata": {
    "id": "jWYH6fN-rkal"
   },
   "source": [
    "We imported the VGG16 architecture but we need to freeze the weight to prevent it from changing in **Backpropogation** process."
   ]
  },
  {
   "cell_type": "code",
   "execution_count": 7,
   "metadata": {
    "id": "Fytnh4MQkF5x"
   },
   "outputs": [],
   "source": [
    "for layer in vgg16.layers:\n",
    "    layer.trainable = False"
   ]
  },
  {
   "cell_type": "code",
   "execution_count": 8,
   "metadata": {
    "colab": {
     "base_uri": "https://localhost:8080/"
    },
    "id": "3m1Dtw2EkTcc",
    "outputId": "b8e7ed70-9e65-43ca-cfe4-da33e018da5c"
   },
   "outputs": [
    {
     "name": "stdout",
     "output_type": "stream",
     "text": [
      "Model: \"vgg16\"\n",
      "_________________________________________________________________\n",
      "Layer (type)                 Output Shape              Param #   \n",
      "=================================================================\n",
      "input_1 (InputLayer)         [(None, 100, 100, 3)]     0         \n",
      "_________________________________________________________________\n",
      "block1_conv1 (Conv2D)        (None, 100, 100, 64)      1792      \n",
      "_________________________________________________________________\n",
      "block1_conv2 (Conv2D)        (None, 100, 100, 64)      36928     \n",
      "_________________________________________________________________\n",
      "block1_pool (MaxPooling2D)   (None, 50, 50, 64)        0         \n",
      "_________________________________________________________________\n",
      "block2_conv1 (Conv2D)        (None, 50, 50, 128)       73856     \n",
      "_________________________________________________________________\n",
      "block2_conv2 (Conv2D)        (None, 50, 50, 128)       147584    \n",
      "_________________________________________________________________\n",
      "block2_pool (MaxPooling2D)   (None, 25, 25, 128)       0         \n",
      "_________________________________________________________________\n",
      "block3_conv1 (Conv2D)        (None, 25, 25, 256)       295168    \n",
      "_________________________________________________________________\n",
      "block3_conv2 (Conv2D)        (None, 25, 25, 256)       590080    \n",
      "_________________________________________________________________\n",
      "block3_conv3 (Conv2D)        (None, 25, 25, 256)       590080    \n",
      "_________________________________________________________________\n",
      "block3_pool (MaxPooling2D)   (None, 12, 12, 256)       0         \n",
      "_________________________________________________________________\n",
      "block4_conv1 (Conv2D)        (None, 12, 12, 512)       1180160   \n",
      "_________________________________________________________________\n",
      "block4_conv2 (Conv2D)        (None, 12, 12, 512)       2359808   \n",
      "_________________________________________________________________\n",
      "block4_conv3 (Conv2D)        (None, 12, 12, 512)       2359808   \n",
      "_________________________________________________________________\n",
      "block4_pool (MaxPooling2D)   (None, 6, 6, 512)         0         \n",
      "_________________________________________________________________\n",
      "block5_conv1 (Conv2D)        (None, 6, 6, 512)         2359808   \n",
      "_________________________________________________________________\n",
      "block5_conv2 (Conv2D)        (None, 6, 6, 512)         2359808   \n",
      "_________________________________________________________________\n",
      "block5_conv3 (Conv2D)        (None, 6, 6, 512)         2359808   \n",
      "_________________________________________________________________\n",
      "block5_pool (MaxPooling2D)   (None, 3, 3, 512)         0         \n",
      "=================================================================\n",
      "Total params: 14,714,688\n",
      "Trainable params: 0\n",
      "Non-trainable params: 14,714,688\n",
      "_________________________________________________________________\n"
     ]
    }
   ],
   "source": [
    "vgg16.summary()"
   ]
  },
  {
   "cell_type": "markdown",
   "metadata": {
    "id": "eGPqGFtHr2Pa"
   },
   "source": [
    "Above you can see the VGG16 architecture, there are total ```14,714,688``` parameters but they are non-trainable because we freezed them. They will not change in backpropogation. \n",
    "\n",
    "Now we need to add some more trainable layer which will be trained according to our dataset. "
   ]
  },
  {
   "cell_type": "code",
   "execution_count": 9,
   "metadata": {
    "id": "D12ZqzZfzMCM"
   },
   "outputs": [],
   "source": [
    "flatten = Flatten()(vgg16.output)\n",
    "dense_1 = Dense(units=500, activation='relu')(flatten)\n",
    "dense_2 = Dense(units=500, activation='relu')(dense_1)\n",
    "dense_3 = Dense(units=100, activation='relu')(dense_2)\n",
    "dense_4 = Dense(units=100, activation='relu')(dense_3)\n",
    "dense_output = Dense(units=1, activation='sigmoid')(dense_4)\n",
    "\n",
    "\n"
   ]
  },
  {
   "cell_type": "code",
   "execution_count": 10,
   "metadata": {
    "id": "ecMm6WxM0Dgz"
   },
   "outputs": [],
   "source": [
    "model = Model(inputs=vgg16.input, outputs=dense_output)"
   ]
  },
  {
   "cell_type": "code",
   "execution_count": 11,
   "metadata": {
    "colab": {
     "base_uri": "https://localhost:8080/"
    },
    "id": "uS-9D95b0Gg4",
    "outputId": "d0c1ef9b-b306-47e6-98b1-45ba69e7e189"
   },
   "outputs": [
    {
     "name": "stdout",
     "output_type": "stream",
     "text": [
      "Model: \"model\"\n",
      "_________________________________________________________________\n",
      "Layer (type)                 Output Shape              Param #   \n",
      "=================================================================\n",
      "input_1 (InputLayer)         [(None, 100, 100, 3)]     0         \n",
      "_________________________________________________________________\n",
      "block1_conv1 (Conv2D)        (None, 100, 100, 64)      1792      \n",
      "_________________________________________________________________\n",
      "block1_conv2 (Conv2D)        (None, 100, 100, 64)      36928     \n",
      "_________________________________________________________________\n",
      "block1_pool (MaxPooling2D)   (None, 50, 50, 64)        0         \n",
      "_________________________________________________________________\n",
      "block2_conv1 (Conv2D)        (None, 50, 50, 128)       73856     \n",
      "_________________________________________________________________\n",
      "block2_conv2 (Conv2D)        (None, 50, 50, 128)       147584    \n",
      "_________________________________________________________________\n",
      "block2_pool (MaxPooling2D)   (None, 25, 25, 128)       0         \n",
      "_________________________________________________________________\n",
      "block3_conv1 (Conv2D)        (None, 25, 25, 256)       295168    \n",
      "_________________________________________________________________\n",
      "block3_conv2 (Conv2D)        (None, 25, 25, 256)       590080    \n",
      "_________________________________________________________________\n",
      "block3_conv3 (Conv2D)        (None, 25, 25, 256)       590080    \n",
      "_________________________________________________________________\n",
      "block3_pool (MaxPooling2D)   (None, 12, 12, 256)       0         \n",
      "_________________________________________________________________\n",
      "block4_conv1 (Conv2D)        (None, 12, 12, 512)       1180160   \n",
      "_________________________________________________________________\n",
      "block4_conv2 (Conv2D)        (None, 12, 12, 512)       2359808   \n",
      "_________________________________________________________________\n",
      "block4_conv3 (Conv2D)        (None, 12, 12, 512)       2359808   \n",
      "_________________________________________________________________\n",
      "block4_pool (MaxPooling2D)   (None, 6, 6, 512)         0         \n",
      "_________________________________________________________________\n",
      "block5_conv1 (Conv2D)        (None, 6, 6, 512)         2359808   \n",
      "_________________________________________________________________\n",
      "block5_conv2 (Conv2D)        (None, 6, 6, 512)         2359808   \n",
      "_________________________________________________________________\n",
      "block5_conv3 (Conv2D)        (None, 6, 6, 512)         2359808   \n",
      "_________________________________________________________________\n",
      "block5_pool (MaxPooling2D)   (None, 3, 3, 512)         0         \n",
      "_________________________________________________________________\n",
      "flatten (Flatten)            (None, 4608)              0         \n",
      "_________________________________________________________________\n",
      "dense (Dense)                (None, 500)               2304500   \n",
      "_________________________________________________________________\n",
      "dense_1 (Dense)              (None, 500)               250500    \n",
      "_________________________________________________________________\n",
      "dense_2 (Dense)              (None, 100)               50100     \n",
      "_________________________________________________________________\n",
      "dense_3 (Dense)              (None, 100)               10100     \n",
      "_________________________________________________________________\n",
      "dense_4 (Dense)              (None, 1)                 101       \n",
      "=================================================================\n",
      "Total params: 17,329,989\n",
      "Trainable params: 2,615,301\n",
      "Non-trainable params: 14,714,688\n",
      "_________________________________________________________________\n"
     ]
    }
   ],
   "source": [
    "model.summary()"
   ]
  },
  {
   "cell_type": "markdown",
   "metadata": {
    "id": "iccj3A1Asljj"
   },
   "source": [
    "Above is our model architecture that we are going to use. \n",
    "\n"
   ]
  },
  {
   "cell_type": "markdown",
   "metadata": {
    "id": "M2iKh2k3s3vd"
   },
   "source": [
    "# Training The Model"
   ]
  },
  {
   "cell_type": "markdown",
   "metadata": {
    "id": "vSsLpvOPs9Rp"
   },
   "source": [
    "Now,our dataset and Model both are ready to be utilized. Let's train our model."
   ]
  },
  {
   "cell_type": "code",
   "execution_count": 12,
   "metadata": {},
   "outputs": [
    {
     "name": "stderr",
     "output_type": "stream",
     "text": [
      "Using TensorFlow backend.\n"
     ]
    }
   ],
   "source": [
    "from keras import backend as K\n",
    "\n",
    "def sensitivity(y_true, y_pred):\n",
    "    true_positives = K.sum(K.round(K.clip(y_true * y_pred, 0, 1)))\n",
    "    possible_positives = K.sum(K.round(K.clip(y_true, 0, 1)))\n",
    "    return true_positives / (possible_positives + K.epsilon())\n",
    "\n",
    "def specificity(y_true, y_pred):\n",
    "    true_negatives = K.sum(K.round(K.clip((1-y_true) * (1-y_pred), 0, 1)))\n",
    "    possible_negatives = K.sum(K.round(K.clip(1-y_true, 0, 1)))\n",
    "    return true_negatives / (possible_negatives + K.epsilon())"
   ]
  },
  {
   "cell_type": "code",
   "execution_count": 13,
   "metadata": {
    "id": "AZb52jnK1zj8"
   },
   "outputs": [],
   "source": [
    "model.compile(\n",
    "  loss='binary_crossentropy',\n",
    "  optimizer='adam',\n",
    "  metrics=['accuracy', sensitivity, specificity]\n",
    ")\n"
   ]
  },
  {
   "cell_type": "code",
   "execution_count": 14,
   "metadata": {},
   "outputs": [
    {
     "name": "stdout",
     "output_type": "stream",
     "text": [
      "WARNING:tensorflow:sample_weight modes were coerced from\n",
      "  ...\n",
      "    to  \n",
      "  ['...']\n",
      "WARNING:tensorflow:sample_weight modes were coerced from\n",
      "  ...\n",
      "    to  \n",
      "  ['...']\n",
      "Train for 313 steps, validate for 56 steps\n",
      "Epoch 1/25\n",
      "313/313 [==============================] - 1895s 6s/step - loss: 0.0849 - accuracy: 0.9668 - sensitivity: 0.9634 - specificity: 0.9677 - val_loss: 0.0683 - val_accuracy: 0.9794 - val_sensitivity: 0.9590 - val_specificity: 1.0000\n",
      "Epoch 2/25\n",
      "313/313 [==============================] - 2011s 6s/step - loss: 0.0330 - accuracy: 0.9885 - sensitivity: 0.9855 - specificity: 0.9917 - val_loss: 0.0257 - val_accuracy: 0.9933 - val_sensitivity: 0.9932 - val_specificity: 0.9943\n",
      "Epoch 3/25\n",
      "313/313 [==============================] - 2740s 9s/step - loss: 0.0320 - accuracy: 0.9897 - sensitivity: 0.9866 - specificity: 0.9928 - val_loss: 0.0320 - val_accuracy: 0.9905 - val_sensitivity: 0.9956 - val_specificity: 0.9858\n",
      "Epoch 4/25\n",
      "313/313 [==============================] - 3130s 10s/step - loss: 0.0239 - accuracy: 0.9917 - sensitivity: 0.9902 - specificity: 0.9936 - val_loss: 0.0145 - val_accuracy: 0.9961 - val_sensitivity: 0.9944 - val_specificity: 0.9981\n",
      "Epoch 5/25\n",
      "313/313 [==============================] - 3345s 11s/step - loss: 0.0150 - accuracy: 0.9950 - sensitivity: 0.9941 - specificity: 0.9959 - val_loss: 0.0181 - val_accuracy: 0.9933 - val_sensitivity: 0.9921 - val_specificity: 0.9947\n",
      "Epoch 6/25\n",
      "313/313 [==============================] - 3116s 10s/step - loss: 0.0196 - accuracy: 0.9921 - sensitivity: 0.9913 - specificity: 0.9932 - val_loss: 0.0239 - val_accuracy: 0.9927 - val_sensitivity: 0.9866 - val_specificity: 0.9991\n",
      "Epoch 7/25\n",
      "313/313 [==============================] - 2809s 9s/step - loss: 0.0132 - accuracy: 0.9952 - sensitivity: 0.9942 - specificity: 0.9963 - val_loss: 0.0145 - val_accuracy: 0.9961 - val_sensitivity: 0.9930 - val_specificity: 0.9991\n",
      "Epoch 8/25\n",
      "313/313 [==============================] - 2936s 9s/step - loss: 0.0154 - accuracy: 0.9952 - sensitivity: 0.9950 - specificity: 0.9958 - val_loss: 0.0206 - val_accuracy: 0.9950 - val_sensitivity: 0.9933 - val_specificity: 0.9972\n",
      "Epoch 9/25\n",
      "313/313 [==============================] - 2597s 8s/step - loss: 0.0127 - accuracy: 0.9964 - sensitivity: 0.9953 - specificity: 0.9974 - val_loss: 0.0196 - val_accuracy: 0.9927 - val_sensitivity: 0.9883 - val_specificity: 0.9972\n",
      "Epoch 10/25\n",
      "313/313 [==============================] - 1704s 5s/step - loss: 0.0111 - accuracy: 0.9962 - sensitivity: 0.9958 - specificity: 0.9966 - val_loss: 0.0353 - val_accuracy: 0.9905 - val_sensitivity: 0.9990 - val_specificity: 0.9823\n",
      "Epoch 11/25\n",
      "313/313 [==============================] - 1777s 6s/step - loss: 0.0108 - accuracy: 0.9962 - sensitivity: 0.9955 - specificity: 0.9970 - val_loss: 0.0392 - val_accuracy: 0.9860 - val_sensitivity: 0.9944 - val_specificity: 0.9771\n",
      "Epoch 12/25\n",
      "313/313 [==============================] - 1774s 6s/step - loss: 0.0130 - accuracy: 0.9957 - sensitivity: 0.9946 - specificity: 0.9968 - val_loss: 0.0418 - val_accuracy: 0.9883 - val_sensitivity: 0.9990 - val_specificity: 0.9772\n",
      "Epoch 13/25\n",
      "313/313 [==============================] - 1823s 6s/step - loss: 0.0114 - accuracy: 0.9959 - sensitivity: 0.9949 - specificity: 0.9969 - val_loss: 0.0229 - val_accuracy: 0.9900 - val_sensitivity: 0.9800 - val_specificity: 1.0000\n",
      "Epoch 14/25\n",
      "313/313 [==============================] - 1831s 6s/step - loss: 0.0083 - accuracy: 0.9970 - sensitivity: 0.9962 - specificity: 0.9980 - val_loss: 0.0297 - val_accuracy: 0.9905 - val_sensitivity: 0.9964 - val_specificity: 0.9829\n",
      "Epoch 15/25\n",
      "313/313 [==============================] - 1878s 6s/step - loss: 0.0158 - accuracy: 0.9953 - sensitivity: 0.9940 - specificity: 0.9969 - val_loss: 0.0315 - val_accuracy: 0.9911 - val_sensitivity: 0.9981 - val_specificity: 0.9830\n",
      "Epoch 16/25\n",
      "313/313 [==============================] - 1700s 5s/step - loss: 0.0078 - accuracy: 0.9980 - sensitivity: 0.9972 - specificity: 0.9988 - val_loss: 0.0172 - val_accuracy: 0.9927 - val_sensitivity: 0.9859 - val_specificity: 0.9991\n",
      "Epoch 17/25\n",
      "313/313 [==============================] - 1698s 5s/step - loss: 0.0031 - accuracy: 0.9990 - sensitivity: 0.9985 - specificity: 0.9996 - val_loss: 0.1676 - val_accuracy: 0.9760 - val_sensitivity: 0.9509 - val_specificity: 1.0000\n",
      "Epoch 18/25\n",
      "313/313 [==============================] - 1695s 5s/step - loss: 0.0091 - accuracy: 0.9973 - sensitivity: 0.9966 - specificity: 0.9982 - val_loss: 0.0123 - val_accuracy: 0.9950 - val_sensitivity: 0.9924 - val_specificity: 0.9981\n",
      "Epoch 19/25\n",
      "313/313 [==============================] - 1693s 5s/step - loss: 0.0047 - accuracy: 0.9979 - sensitivity: 0.9975 - specificity: 0.9979 - val_loss: 0.0602 - val_accuracy: 0.9894 - val_sensitivity: 0.9788 - val_specificity: 1.0000\n",
      "Epoch 20/25\n",
      "313/313 [==============================] - 1706s 5s/step - loss: 0.0076 - accuracy: 0.9976 - sensitivity: 0.9972 - specificity: 0.9983 - val_loss: 0.0191 - val_accuracy: 0.9955 - val_sensitivity: 0.9903 - val_specificity: 1.0000\n",
      "Epoch 21/25\n",
      "313/313 [==============================] - 1696s 5s/step - loss: 0.0035 - accuracy: 0.9990 - sensitivity: 0.9991 - specificity: 0.9991 - val_loss: 0.0117 - val_accuracy: 0.9967 - val_sensitivity: 0.9968 - val_specificity: 0.9968\n",
      "Epoch 22/25\n",
      "313/313 [==============================] - 1686s 5s/step - loss: 0.0063 - accuracy: 0.9979 - sensitivity: 0.9971 - specificity: 0.9985 - val_loss: 0.0204 - val_accuracy: 0.9939 - val_sensitivity: 0.9931 - val_specificity: 0.9940\n",
      "Epoch 23/25\n",
      "313/313 [==============================] - 1795s 6s/step - loss: 0.0073 - accuracy: 0.9981 - sensitivity: 0.9983 - specificity: 0.9978 - val_loss: 0.0272 - val_accuracy: 0.9944 - val_sensitivity: 0.9918 - val_specificity: 0.9973\n",
      "Epoch 24/25\n",
      "313/313 [==============================] - 1777s 6s/step - loss: 0.0049 - accuracy: 0.9983 - sensitivity: 0.9981 - specificity: 0.9986 - val_loss: 0.0210 - val_accuracy: 0.9939 - val_sensitivity: 0.9872 - val_specificity: 1.0000\n",
      "Epoch 25/25\n",
      "313/313 [==============================] - 1787s 6s/step - loss: 0.0074 - accuracy: 0.9974 - sensitivity: 0.9971 - specificity: 0.9976 - val_loss: 0.0213 - val_accuracy: 0.9950 - val_sensitivity: 0.9942 - val_specificity: 0.9964\n"
     ]
    }
   ],
   "source": [
    "my_model = model.fit(training_data, epochs=25, validation_data=test_data) \n"
   ]
  },
  {
   "cell_type": "code",
   "execution_count": 15,
   "metadata": {},
   "outputs": [],
   "source": [
    "model.save('face_mask_detection.h5')"
   ]
  },
  {
   "cell_type": "markdown",
   "metadata": {
    "id": "4ieSOJUnub1a"
   },
   "source": [
    "# Visualizing Training of Model"
   ]
  },
  {
   "cell_type": "code",
   "execution_count": 16,
   "metadata": {
    "colab": {
     "base_uri": "https://localhost:8080/",
     "height": 530
    },
    "id": "jJnFDLHn2eIL",
    "outputId": "7347cee6-41e2-4b7a-cda2-e02a83f3b39a"
   },
   "outputs": [
    {
     "data": {
      "image/png": "[encoded data removed]",
      "text/plain": [
       "<Figure size 432x288 with 1 Axes>"
      ]
     },
     "metadata": {
      "needs_background": "light"
     },
     "output_type": "display_data"
    },
    {
     "data": {
      "image/png": "[encoded data removed]",
      "text/plain": [
       "<Figure size 432x288 with 1 Axes>"
      ]
     },
     "metadata": {
      "needs_background": "light"
     },
     "output_type": "display_data"
    },
    {
     "data": {
      "image/png": "[encoded data removed]",
      "text/plain": [
       "<Figure size 432x288 with 1 Axes>"
      ]
     },
     "metadata": {
      "needs_background": "light"
     },
     "output_type": "display_data"
    },
    {
     "data": {
      "image/png": "[encoded data removed]",
      "text/plain": [
       "<Figure size 432x288 with 1 Axes>"
      ]
     },
     "metadata": {
      "needs_background": "light"
     },
     "output_type": "display_data"
    },
    {
     "data": {
      "text/plain": [
       "<Figure size 432x288 with 0 Axes>"
      ]
     },
     "metadata": {},
     "output_type": "display_data"
    }
   ],
   "source": [
    "# plot the loss\n",
    "import matplotlib.pyplot as plt\n",
    "plt.plot(my_model.history['loss'], label='train loss')\n",
    "plt.plot(my_model.history['val_loss'], label='val loss')\n",
    "plt.legend()\n",
    "plt.show()\n",
    "plt.savefig('LossVal_loss')\n",
    "\n",
    "# plot the accuracy\n",
    "plt.plot(my_model.history['accuracy'], label='train acc')\n",
    "plt.plot(my_model.history['val_accuracy'], label='val acc')\n",
    "plt.legend()\n",
    "plt.show()\n",
    "plt.savefig('AccVal_acc')\n",
    "\n",
    "# plot the sensitivity\n",
    "plt.plot(my_model.history['sensitivity'], label='train sen')\n",
    "plt.plot(my_model.history['val_sensitivity'], label='val sen')\n",
    "plt.legend()\n",
    "plt.show()\n",
    "plt.savefig('SenVal_sen')\n",
    "\n",
    "# plot the specificity\n",
    "plt.plot(my_model.history['specificity'], label='train spe')\n",
    "plt.plot(my_model.history['val_specificity'], label='val spe')\n",
    "plt.legend()\n",
    "plt.show()\n",
    "plt.savefig('SpeVal_spe')"
   ]
  },
  {
   "cell_type": "markdown",
   "metadata": {
    "id": "0A3Rn_cPu_id"
   },
   "source": [
    "# Testing the Model"
   ]
  },
  {
   "cell_type": "code",
   "execution_count": 17,
   "metadata": {
    "colab": {
     "base_uri": "https://localhost:8080/"
    },
    "id": "E_Ad0Bx3_lIt",
    "outputId": "bb3e292b-d547-45dc-9f62-b38c7049ee8c"
   },
   "outputs": [
    {
     "data": {
      "text/plain": [
       "1.0"
      ]
     },
     "execution_count": 17,
     "metadata": {},
     "output_type": "execute_result"
    }
   ],
   "source": [
    "import numpy as np\n",
    "from tensorflow.keras.preprocessing import image\n",
    "test_image = image.load_img('./Face Mask Dataset/Test/WithoutMask/1348.png', target_size = INPUT_SIZE)\n",
    "test_image = image.img_to_array(test_image)\n",
    "test_image=test_image/255\n",
    "test_image = np.expand_dims(test_image, axis = 0)\n",
    "result = model.predict(test_image)\n",
    "result[0][0]"
   ]
  },
  {
   "cell_type": "code",
   "execution_count": 18,
   "metadata": {
    "colab": {
     "base_uri": "https://localhost:8080/"
    },
    "id": "vxxcu67FAqz5",
    "outputId": "e9bd9a39-c37b-48de-b3a1-5c4bc71a3fe2"
   },
   "outputs": [
    {
     "name": "stdout",
     "output_type": "stream",
     "text": [
      "Image classified as Without Mask\n"
     ]
    }
   ],
   "source": [
    "if result[0][0] < 0.5:\n",
    "    print('Image classified as With MAsk')\n",
    "else:\n",
    "    print('Image classified as Without Mask')"
   ]
  },
  {
   "cell_type": "markdown",
   "metadata": {},
   "source": [
    "# Detecting Face Masks"
   ]
  },
  {
   "cell_type": "code",
   "execution_count": 19,
   "metadata": {},
   "outputs": [],
   "source": [
    "from tensorflow.keras.models import load_model\n",
    "from tensorflow.keras.preprocessing import image\n",
    "import cv2\n",
    "import numpy as np"
   ]
  },
  {
   "cell_type": "code",
   "execution_count": 20,
   "metadata": {},
   "outputs": [],
   "source": [
    "from keras import backend as K\n",
    "\n",
    "def sensitivity(y_true, y_pred):\n",
    "    true_positives = K.sum(K.round(K.clip(y_true * y_pred, 0, 1)))\n",
    "    possible_positives = K.sum(K.round(K.clip(y_true, 0, 1)))\n",
    "    return true_positives / (possible_positives + K.epsilon())\n",
    "\n",
    "def specificity(y_true, y_pred):\n",
    "    true_negatives = K.sum(K.round(K.clip((1-y_true) * (1-y_pred), 0, 1)))\n",
    "    possible_negatives = K.sum(K.round(K.clip(1-y_true, 0, 1)))\n",
    "    return true_negatives / (possible_negatives + K.epsilon())"
   ]
  },
  {
   "cell_type": "code",
   "execution_count": 21,
   "metadata": {},
   "outputs": [],
   "source": [
    "dependencies = {\n",
    "    'sensitivity': sensitivity,\n",
    "    'specificity': specificity\n",
    "}\n",
    "\n",
    "model = load_model('face_mask_detection.h5', custom_objects=dependencies)"
   ]
  },
  {
   "cell_type": "code",
   "execution_count": 22,
   "metadata": {
    "scrolled": false
   },
   "outputs": [],
   "source": [
    "\n",
    "face_clsfr=cv2.CascadeClassifier('haarcascade_frontalface_default.xml')\n",
    "\n",
    "source=cv2.VideoCapture(0)\n",
    "\n",
    "labels_dict={0:'WITHOUT MASK',1:'WITH MASK'}\n",
    "color_dict={0:(0,0,255),1:(0,255,0)}"
   ]
  },
  {
   "cell_type": "code",
   "execution_count": 23,
   "metadata": {},
   "outputs": [],
   "source": [
    "while(True):\n",
    "\n",
    "    ret,img=source.read()\n",
    "    faces=face_clsfr.detectMultiScale(img,1.3,5)  \n",
    "\n",
    "    for (x,y,w,h) in faces:\n",
    "        resized_img=cv2.resize(img,(100,100))\n",
    "        img_array = image.img_to_array(resized_img)\n",
    "        normalized_img= img_array/255\n",
    "        reshaped_img = np.expand_dims(normalized_img, axis = 0)\n",
    "        result=model.predict(reshaped_img)\n",
    "        \n",
    "        if result[0][0] < 0.5:\n",
    "            label = 0\n",
    "        else:\n",
    "            label = 1\n",
    "      \n",
    "        cv2.rectangle(img,(x,y),(x+w,y+h),color_dict[label],2)\n",
    "        cv2.rectangle(img,(x,y-40),(x+w,y),color_dict[label],-1)\n",
    "        cv2.putText(img, labels_dict[label], (x, y-10),cv2.FONT_HERSHEY_SIMPLEX,0.8,(255,255,255),2)\n",
    "        \n",
    "        \n",
    "    cv2.imshow('LIVE',img)\n",
    "    key=cv2.waitKey(1)\n",
    "    \n",
    "    if(key==27):\n",
    "        break\n",
    "        \n",
    "cv2.destroyAllWindows()\n",
    "source.release()"
   ]
  },
  {
   "cell_type": "code",
   "execution_count": null,
   "metadata": {},
   "outputs": [],
   "source": []
  }
 ],
 "metadata": {
  "accelerator": "GPU",
  "colab": {
   "collapsed_sections": [
    "4cbgwZWWfWpp"
   ],
   "machine_shape": "hm",
   "name": "Face_Mask_Detection.ipynb",
   "provenance": []
  },
  "kernelspec": {
   "display_name": "Python 3 (ipykernel)",
   "language": "python",
   "name": "python3"
  },
  "language_info": {
   "codemirror_mode": {
    "name": "ipython",
    "version": 3
   },
   "file_extension": ".py",
   "mimetype": "text/x-python",
   "name": "python",
   "nbconvert_exporter": "python",
   "pygments_lexer": "ipython3",
   "version": "3.10.13"
  }
 },
 "nbformat": 4,
 "nbformat_minor": 1
}
